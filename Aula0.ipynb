{
  "nbformat": 4,
  "nbformat_minor": 0,
  "metadata": {
    "colab": {
      "provenance": [],
      "include_colab_link": true
    },
    "kernelspec": {
      "name": "python3",
      "display_name": "Python 3"
    },
    "language_info": {
      "name": "python"
    }
  },
  "cells": [
    {
      "cell_type": "markdown",
      "metadata": {
        "id": "view-in-github",
        "colab_type": "text"
      },
      "source": [
        "<a href=\"https://colab.research.google.com/github/AngelRitsuka/Aulas-Python/blob/main/Aula0.ipynb\" target=\"_parent\"><img src=\"https://colab.research.google.com/assets/colab-badge.svg\" alt=\"Open In Colab\"/></a>"
      ]
    },
    {
      "cell_type": "code",
      "execution_count": null,
      "metadata": {
        "colab": {
          "base_uri": "https://localhost:8080/"
        },
        "id": "UufV3jhmBsDV",
        "outputId": "3b1678a7-b157-42f0-e64b-f653d1fb89ab"
      },
      "outputs": [
        {
          "output_type": "stream",
          "name": "stdout",
          "text": [
            "4\n"
          ]
        }
      ],
      "source": [
        "print(2+2)"
      ]
    },
    {
      "cell_type": "code",
      "source": [
        "name = \"Angelica\"\n",
        "print (name)"
      ],
      "metadata": {
        "id": "WhbymZtsDyro",
        "outputId": "52de0be3-6315-414c-fa94-71265e1e0cb9",
        "colab": {
          "base_uri": "https://localhost:8080/"
        }
      },
      "execution_count": null,
      "outputs": [
        {
          "output_type": "stream",
          "name": "stdout",
          "text": [
            "Angelica\n"
          ]
        }
      ]
    },
    {
      "cell_type": "code",
      "source": [
        "name = 'Kirk'\n",
        "print(name)"
      ],
      "metadata": {
        "colab": {
          "base_uri": "https://localhost:8080/"
        },
        "id": "cW2jVLl-CIy5",
        "outputId": "33f00a2f-3b43-4ec9-d3d3-6013bb18e25c"
      },
      "execution_count": null,
      "outputs": [
        {
          "output_type": "stream",
          "name": "stdout",
          "text": [
            "Kirk\n"
          ]
        }
      ]
    },
    {
      "cell_type": "code",
      "source": [
        "ano = 2023\n",
        "print(ano)"
      ],
      "metadata": {
        "colab": {
          "base_uri": "https://localhost:8080/"
        },
        "id": "GOBzI3niErKd",
        "outputId": "da1502d0-ebb4-4508-9a73-2c7e8824219c"
      },
      "execution_count": 3,
      "outputs": [
        {
          "output_type": "stream",
          "name": "stdout",
          "text": [
            "2023\n"
          ]
        }
      ]
    },
    {
      "cell_type": "code",
      "source": [
        "ano = input()\n",
        "print(ano)"
      ],
      "metadata": {
        "colab": {
          "base_uri": "https://localhost:8080/"
        },
        "id": "HX5s93e5E87K",
        "outputId": "9eddee64-49e5-403f-fc9b-dae2c6138412"
      },
      "execution_count": 4,
      "outputs": [
        {
          "output_type": "stream",
          "name": "stdout",
          "text": [
            "2023\n",
            "2023\n"
          ]
        }
      ]
    },
    {
      "cell_type": "markdown",
      "source": [],
      "metadata": {
        "id": "0GUJ2IqMHtj_"
      }
    },
    {
      "cell_type": "code",
      "source": [],
      "metadata": {
        "id": "QdmDeLNmmiyo"
      },
      "execution_count": null,
      "outputs": []
    },
    {
      "cell_type": "markdown",
      "source": [],
      "metadata": {
        "id": "bkLR8aa9HtoY"
      }
    },
    {
      "cell_type": "code",
      "source": [
        "##First class with Kirk :)"
      ],
      "metadata": {
        "id": "6H2ndwyHHx4b"
      },
      "execution_count": 5,
      "outputs": []
    },
    {
      "cell_type": "code",
      "source": [],
      "metadata": {
        "id": "XbkrAhL3H2a7"
      },
      "execution_count": null,
      "outputs": []
    }
  ]
}