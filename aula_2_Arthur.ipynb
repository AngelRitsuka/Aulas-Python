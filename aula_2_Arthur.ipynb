{
  "nbformat": 4,
  "nbformat_minor": 0,
  "metadata": {
    "colab": {
      "provenance": [],
      "include_colab_link": true
    },
    "kernelspec": {
      "name": "python3",
      "display_name": "Python 3"
    },
    "language_info": {
      "name": "python"
    }
  },
  "cells": [
    {
      "cell_type": "markdown",
      "metadata": {
        "id": "view-in-github",
        "colab_type": "text"
      },
      "source": [
        "<a href=\"https://colab.research.google.com/github/AngelRitsuka/Aulas-Python/blob/main/aula_2_Arthur.ipynb\" target=\"_parent\"><img src=\"https://colab.research.google.com/assets/colab-badge.svg\" alt=\"Open In Colab\"/></a>"
      ]
    },
    {
      "cell_type": "code",
      "execution_count": null,
      "metadata": {
        "colab": {
          "base_uri": "https://localhost:8080/"
        },
        "id": "7P5uWPX_-O49",
        "outputId": "a1d13192-bfb7-4186-e3f3-1c4e97c93442"
      },
      "outputs": [
        {
          "output_type": "stream",
          "name": "stdout",
          "text": [
            "Angélica\n",
            "18\n"
          ]
        }
      ],
      "source": [
        "nome = \"Angélica\"\n",
        "\n",
        "idade = 18\n",
        "print(nome)\n",
        "print(idade)"
      ]
    },
    {
      "cell_type": "code",
      "source": [
        "#variavel - nomes\n",
        "#int - números inteiros\n",
        "#float - números decimais ou com ,\n",
        "#str - letras, para usar uma mensagem precisamos primeiro colocar aspas \"\" ou ''\n",
        "#booleano - SIM ou Não / True e False / If (se) Else(senão)\n",
        "#print - resposta"
      ],
      "metadata": {
        "colab": {
          "base_uri": "https://localhost:8080/"
        },
        "id": "e4HDbg49_v2X",
        "outputId": "45cab4b1-a81c-404e-bd84-e960e8622819"
      },
      "execution_count": null,
      "outputs": [
        {
          "output_type": "execute_result",
          "data": {
            "text/plain": [
              "bool"
            ]
          },
          "metadata": {},
          "execution_count": 10
        }
      ]
    },
    {
      "cell_type": "code",
      "source": [
        "input(\"Oi tudo bem?\")"
      ],
      "metadata": {
        "colab": {
          "base_uri": "https://localhost:8080/",
          "height": 53
        },
        "id": "8AQfsFlIC7fJ",
        "outputId": "8aec0bc8-2a27-43f8-d306-ef06856a4780"
      },
      "execution_count": null,
      "outputs": [
        {
          "name": "stdout",
          "output_type": "stream",
          "text": [
            "Oi tudo bem?tudo\n"
          ]
        },
        {
          "output_type": "execute_result",
          "data": {
            "text/plain": [
              "'tudo'"
            ],
            "application/vnd.google.colaboratory.intrinsic+json": {
              "type": "string"
            }
          },
          "metadata": {},
          "execution_count": 11
        }
      ]
    },
    {
      "cell_type": "code",
      "source": [
        "input(\"qual sua idade?\")"
      ],
      "metadata": {
        "id": "2mkOLgrRDbjR"
      },
      "execution_count": null,
      "outputs": []
    },
    {
      "cell_type": "code",
      "source": [
        "# prompt: exemplo usando o input\n",
        "\n",
        "nome = input(\"Qual o seu nome? \")\n",
        "idade = int(input(\"Qual a sua idade? \"))\n",
        "\n",
        "print(f\"Olá {nome}, você tem {idade} anos.\")\n"
      ],
      "metadata": {
        "id": "uMNdxWNmFe4I"
      },
      "execution_count": null,
      "outputs": []
    },
    {
      "cell_type": "code",
      "source": [
        "int(input(\"Digite um número. \"))"
      ],
      "metadata": {
        "id": "EKSA6bQvGUVV"
      },
      "execution_count": null,
      "outputs": []
    },
    {
      "cell_type": "code",
      "source": [
        "float(input(\"Quantos reais você tem no bolso?\"))"
      ],
      "metadata": {
        "id": "5B5tr3s1GlaB"
      },
      "execution_count": null,
      "outputs": []
    },
    {
      "cell_type": "code",
      "source": [
        "str(input(\"Seu nome é \"))"
      ],
      "metadata": {
        "id": "cp8kNoCwG3aj"
      },
      "execution_count": null,
      "outputs": []
    },
    {
      "cell_type": "code",
      "source": [
        "# prompt: exemplo booleano sim ou não\n",
        "\n",
        "x = True\n",
        "y = False\n",
        "\n",
        "print('x and y is',x and y)\n",
        "\n",
        "print('x or y is',x or y)\n",
        "\n",
        "print('not x is',not x)\n"
      ],
      "metadata": {
        "id": "TESVaqF-Hezz"
      },
      "execution_count": null,
      "outputs": []
    },
    {
      "cell_type": "code",
      "source": [
        "print(4+3)"
      ],
      "metadata": {
        "id": "4s0QZN7AIFaz"
      },
      "execution_count": null,
      "outputs": []
    },
    {
      "cell_type": "code",
      "source": [
        "print(\"JS tá difícil mesmo! T-T\")"
      ],
      "metadata": {
        "id": "Ygpq8idrINiJ"
      },
      "execution_count": null,
      "outputs": []
    },
    {
      "cell_type": "code",
      "source": [],
      "metadata": {
        "id": "0a5xeylyKCGp"
      },
      "execution_count": null,
      "outputs": []
    }
  ]
}