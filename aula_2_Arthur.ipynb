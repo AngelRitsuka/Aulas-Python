{
  "nbformat": 4,
  "nbformat_minor": 0,
  "metadata": {
    "colab": {
      "provenance": [],
      "include_colab_link": true
    },
    "kernelspec": {
      "name": "python3",
      "display_name": "Python 3"
    },
    "language_info": {
      "name": "python"
    }
  },
  "cells": [
    {
      "cell_type": "markdown",
      "metadata": {
        "id": "view-in-github",
        "colab_type": "text"
      },
      "source": [
        "<a href=\"https://colab.research.google.com/github/AngelRitsuka/Aulas-Python/blob/main/aula_2_Arthur.ipynb\" target=\"_parent\"><img src=\"https://colab.research.google.com/assets/colab-badge.svg\" alt=\"Open In Colab\"/></a>"
      ]
    },
    {
      "cell_type": "code",
      "execution_count": null,
      "metadata": {
        "colab": {
          "base_uri": "https://localhost:8080/"
        },
        "id": "7P5uWPX_-O49",
        "outputId": "a1d13192-bfb7-4186-e3f3-1c4e97c93442"
      },
      "outputs": [
        {
          "output_type": "stream",
          "name": "stdout",
          "text": [
            "Angélica\n",
            "18\n"
          ]
        }
      ],
      "source": [
        "nome = \"Angélica\"\n",
        "\n",
        "idade = 18\n",
        "print(nome)\n",
        "print(idade)"
      ]
    },
    {
      "cell_type": "code",
      "source": [
        "#variavel - nomes\n",
        "#int - números inteiros\n",
        "#float - números decimais ou com ,\n",
        "#str - letras, para usar uma mensagem precisamos primeiro colocar aspas \"\" ou ''\n",
        "#booleano - SIM ou Não / True e False / If (se) Else(senão)\n",
        "#print - resposta"
      ],
      "metadata": {
        "id": "e4HDbg49_v2X"
      },
      "execution_count": null,
      "outputs": []
    },
    {
      "cell_type": "code",
      "source": [
        "input(\"Oi tudo bem?\")"
      ],
      "metadata": {
        "colab": {
          "base_uri": "https://localhost:8080/",
          "height": 53
        },
        "id": "8AQfsFlIC7fJ",
        "outputId": "8aec0bc8-2a27-43f8-d306-ef06856a4780"
      },
      "execution_count": null,
      "outputs": [
        {
          "name": "stdout",
          "output_type": "stream",
          "text": [
            "Oi tudo bem?tudo\n"
          ]
        },
        {
          "output_type": "execute_result",
          "data": {
            "text/plain": [
              "'tudo'"
            ],
            "application/vnd.google.colaboratory.intrinsic+json": {
              "type": "string"
            }
          },
          "metadata": {},
          "execution_count": 11
        }
      ]
    },
    {
      "cell_type": "code",
      "source": [
        "input(\"qual sua idade?\")"
      ],
      "metadata": {
        "id": "2mkOLgrRDbjR",
        "colab": {
          "base_uri": "https://localhost:8080/",
          "height": 53
        },
        "outputId": "9d3e77eb-94af-4425-a942-71a55979a55b"
      },
      "execution_count": null,
      "outputs": [
        {
          "name": "stdout",
          "output_type": "stream",
          "text": [
            "qual sua idade?15 anos\n"
          ]
        },
        {
          "output_type": "execute_result",
          "data": {
            "text/plain": [
              "'15 anos'"
            ],
            "application/vnd.google.colaboratory.intrinsic+json": {
              "type": "string"
            }
          },
          "metadata": {},
          "execution_count": 2
        }
      ]
    },
    {
      "cell_type": "code",
      "source": [
        "# prompt: exemplo usando o input\n",
        "\n",
        "nome = input(\"Qual o seu nome? \")\n",
        "idade = int(input(\"Qual a sua idade? \"))\n",
        "\n",
        "print(f\"Olá {nome}, você tem {idade} anos.\")\n"
      ],
      "metadata": {
        "id": "uMNdxWNmFe4I",
        "colab": {
          "base_uri": "https://localhost:8080/"
        },
        "outputId": "477b8445-10e2-4519-95ea-eff90c58462e"
      },
      "execution_count": null,
      "outputs": [
        {
          "output_type": "stream",
          "name": "stdout",
          "text": [
            "Qual o seu nome? Angélica\n",
            "Qual a sua idade? 25\n",
            "Olá Angélica, você tem 25 anos.\n"
          ]
        }
      ]
    },
    {
      "cell_type": "code",
      "source": [
        "int(input(\"Digite um número. \"))"
      ],
      "metadata": {
        "id": "EKSA6bQvGUVV",
        "colab": {
          "base_uri": "https://localhost:8080/"
        },
        "outputId": "cdb9731b-2827-4eee-e486-8954f87b53b4"
      },
      "execution_count": null,
      "outputs": [
        {
          "name": "stdout",
          "output_type": "stream",
          "text": [
            "Digite um número. 15\n"
          ]
        },
        {
          "output_type": "execute_result",
          "data": {
            "text/plain": [
              "15"
            ]
          },
          "metadata": {},
          "execution_count": 5
        }
      ]
    },
    {
      "cell_type": "code",
      "source": [
        "float(input(\"Quantos reais você tem no bolso?\"))"
      ],
      "metadata": {
        "id": "5B5tr3s1GlaB",
        "colab": {
          "base_uri": "https://localhost:8080/"
        },
        "outputId": "141865f1-3783-4865-f590-cca2e171a132"
      },
      "execution_count": null,
      "outputs": [
        {
          "name": "stdout",
          "output_type": "stream",
          "text": [
            "Quantos reais você tem no bolso?0.0\n"
          ]
        },
        {
          "output_type": "execute_result",
          "data": {
            "text/plain": [
              "0.0"
            ]
          },
          "metadata": {},
          "execution_count": 6
        }
      ]
    },
    {
      "cell_type": "code",
      "source": [
        "# prompt: exemplo booleano sim ou não\n",
        "\n",
        "x = True\n",
        "y = False\n",
        "\n",
        "print('x and y is',x and y)\n",
        "\n",
        "print('x or y is',x or y)\n",
        "\n",
        "print('not x is',not x)\n"
      ],
      "metadata": {
        "id": "TESVaqF-Hezz",
        "colab": {
          "base_uri": "https://localhost:8080/"
        },
        "outputId": "93ed7bed-4e03-4757-b11a-7baa013daff6"
      },
      "execution_count": null,
      "outputs": [
        {
          "output_type": "stream",
          "name": "stdout",
          "text": [
            "x and y is False\n",
            "x or y is True\n",
            "not x is False\n"
          ]
        }
      ]
    },
    {
      "cell_type": "code",
      "source": [
        "print(4+3)"
      ],
      "metadata": {
        "id": "4s0QZN7AIFaz",
        "colab": {
          "base_uri": "https://localhost:8080/"
        },
        "outputId": "5fa59aa6-9f53-425f-af83-16b6fb6df8a5"
      },
      "execution_count": null,
      "outputs": [
        {
          "output_type": "stream",
          "name": "stdout",
          "text": [
            "7\n"
          ]
        }
      ]
    },
    {
      "cell_type": "code",
      "source": [
        "print(\"4+3\")"
      ],
      "metadata": {
        "colab": {
          "base_uri": "https://localhost:8080/"
        },
        "id": "9e3w0GiyzR0G",
        "outputId": "96ea24db-5cc8-4522-eea5-53eb2fb92104"
      },
      "execution_count": null,
      "outputs": [
        {
          "output_type": "stream",
          "name": "stdout",
          "text": [
            "4+3\n"
          ]
        }
      ]
    },
    {
      "cell_type": "code",
      "source": [
        "print(\"Python tá difícil mesmo! T-T\")"
      ],
      "metadata": {
        "id": "Ygpq8idrINiJ",
        "colab": {
          "base_uri": "https://localhost:8080/"
        },
        "outputId": "6a12380c-1e6b-4b97-c4b7-e2e130610284"
      },
      "execution_count": null,
      "outputs": [
        {
          "output_type": "stream",
          "name": "stdout",
          "text": [
            "Python tá difícil mesmo! T-T\n"
          ]
        }
      ]
    },
    {
      "cell_type": "code",
      "source": [
        "str(input(\"Seu nome é \"))"
      ],
      "metadata": {
        "id": "cp8kNoCwG3aj",
        "colab": {
          "base_uri": "https://localhost:8080/",
          "height": 53
        },
        "outputId": "df3e57e6-9b42-47e0-ec7f-16e4d3612be2"
      },
      "execution_count": null,
      "outputs": [
        {
          "name": "stdout",
          "output_type": "stream",
          "text": [
            "Seu nome é Arthur\n"
          ]
        },
        {
          "output_type": "execute_result",
          "data": {
            "text/plain": [
              "'Arthur'"
            ],
            "application/vnd.google.colaboratory.intrinsic+json": {
              "type": "string"
            }
          },
          "metadata": {},
          "execution_count": 7
        }
      ]
    },
    {
      "cell_type": "markdown",
      "source": [
        "DESAFIO:\n",
        "\n",
        "Criar uma pergunta sobre em que mês estamos porém aceitando apenas resposta em string."
      ],
      "metadata": {
        "id": "raJbZqEDNEV-"
      }
    },
    {
      "cell_type": "code",
      "source": [
        "str(input(\"em que mês estamos número?\"))\n"
      ],
      "metadata": {
        "id": "0a5xeylyKCGp",
        "colab": {
          "base_uri": "https://localhost:8080/",
          "height": 53
        },
        "outputId": "a5faca6a-280d-4ee3-d976-c623503d4ace"
      },
      "execution_count": null,
      "outputs": [
        {
          "name": "stdout",
          "output_type": "stream",
          "text": [
            "em que mês estamos número? junho\n"
          ]
        },
        {
          "output_type": "execute_result",
          "data": {
            "text/plain": [
              "' junho'"
            ],
            "application/vnd.google.colaboratory.intrinsic+json": {
              "type": "string"
            }
          },
          "metadata": {},
          "execution_count": 5
        }
      ]
    },
    {
      "cell_type": "code",
      "source": [
        "print()"
      ],
      "metadata": {
        "colab": {
          "base_uri": "https://localhost:8080/"
        },
        "id": "SyTUqita14d2",
        "outputId": "183114d6-d74f-4e8f-e8c3-1db92ac1a595"
      },
      "execution_count": null,
      "outputs": [
        {
          "output_type": "stream",
          "name": "stdout",
          "text": [
            "12\n"
          ]
        }
      ]
    },
    {
      "cell_type": "markdown",
      "source": [
        "# **Concatenar** = juntar +"
      ],
      "metadata": {
        "id": "dKE-ZLQC38nU"
      }
    },
    {
      "cell_type": "code",
      "source": [
        "mes = 'junho'\n",
        "\n",
        "pergunta = input()\n",
        "print(\"Estamos em \" + mes +\" de 2024\")"
      ],
      "metadata": {
        "colab": {
          "base_uri": "https://localhost:8080/"
        },
        "id": "qEM1UcG02yrd",
        "outputId": "ff5c9765-24a3-4783-8ef5-8af8e570bfcf"
      },
      "execution_count": null,
      "outputs": [
        {
          "output_type": "stream",
          "name": "stdout",
          "text": [
            "Em que mês nós estamos?\n",
            "Estamos em junho de 2024\n"
          ]
        }
      ]
    },
    {
      "cell_type": "code",
      "source": [
        "azul_vermelho = \"roxo\"\n",
        "\n",
        "print(\"dadsdasdsadas \" + azul_vermelho )\n"
      ],
      "metadata": {
        "colab": {
          "base_uri": "https://localhost:8080/"
        },
        "id": "r2u8yO7p4fvu",
        "outputId": "97b40a4a-629d-4897-a095-556dd95a27ea"
      },
      "execution_count": null,
      "outputs": [
        {
          "output_type": "stream",
          "name": "stdout",
          "text": [
            "dadsdasdsadas roxo\n"
          ]
        }
      ]
    },
    {
      "cell_type": "code",
      "source": [
        "#criamos variaveis e depois pedimos pra aparecer no console\n",
        "\n",
        "azul = \"azul\"\n",
        "vermelho = \"vermelho\"\n",
        "\n",
        "roxo = \"roxo\"\n",
        "print(\"Azul + vermelho vai dar o que?\" + roxo)\n"
      ],
      "metadata": {
        "colab": {
          "base_uri": "https://localhost:8080/"
        },
        "id": "AWuxML3C6DjL",
        "outputId": "996955b1-fc7d-4ed9-b62f-b4bc651f83ab"
      },
      "execution_count": null,
      "outputs": [
        {
          "output_type": "stream",
          "name": "stdout",
          "text": [
            "Azul + vermelho vai dar o que?roxo\n"
          ]
        }
      ]
    },
    {
      "cell_type": "markdown",
      "source": [
        "DESAFIO"
      ],
      "metadata": {
        "id": "ydPRvNw05yb8"
      }
    },
    {
      "cell_type": "code",
      "source": [
        "azul = \"amplificação de feitiço azul\"\n",
        "vermelho = \"reversão de feitiço vermelho\"\n",
        "\n",
        "roxo = \"tecnica imaginaria roxo\"\n"
      ],
      "metadata": {
        "id": "sxB2vSbf5W9N"
      },
      "execution_count": null,
      "outputs": []
    },
    {
      "cell_type": "code",
      "source": [
        "print(azul, vermelho, roxo)"
      ],
      "metadata": {
        "id": "MQAk9wuh9Vl3",
        "colab": {
          "base_uri": "https://localhost:8080/"
        },
        "outputId": "7bfc0794-0b75-4126-d616-a171ee6a2d1b"
      },
      "execution_count": null,
      "outputs": [
        {
          "output_type": "stream",
          "name": "stdout",
          "text": [
            "amplificação de feitiço azul reversão de feitiço vermelho tecnica imaginaria roxo\n"
          ]
        }
      ]
    },
    {
      "cell_type": "code",
      "source": [
        "print(\"Azul + Vermelho = \" + roxo)"
      ],
      "metadata": {
        "colab": {
          "base_uri": "https://localhost:8080/"
        },
        "id": "ULP7FDjR9wll",
        "outputId": "e29329c0-024d-40ea-ede7-81c50d501666"
      },
      "execution_count": null,
      "outputs": [
        {
          "output_type": "stream",
          "name": "stdout",
          "text": [
            "Azul + Vermelho = tecnica imaginaria roxo\n"
          ]
        }
      ]
    },
    {
      "cell_type": "markdown",
      "source": [
        "Exercício 14/06\n",
        "\n",
        "Juntar os valores 30+120"
      ],
      "metadata": {
        "id": "5FToPNE7-Zly"
      }
    },
    {
      "cell_type": "code",
      "source": [
        "print(30+120)"
      ],
      "metadata": {
        "id": "XRtO0aZX-5qq",
        "colab": {
          "base_uri": "https://localhost:8080/"
        },
        "outputId": "2949d4f8-08b5-4cec-b530-81654f6ca54a"
      },
      "execution_count": null,
      "outputs": [
        {
          "output_type": "stream",
          "name": "stdout",
          "text": [
            "150\n"
          ]
        }
      ]
    },
    {
      "cell_type": "markdown",
      "source": [
        "Criar variaveis nomePet + idadePet e fazer elas aparecer no print."
      ],
      "metadata": {
        "id": "zp1UjPjg-nL8"
      }
    },
    {
      "cell_type": "code",
      "source": [],
      "metadata": {
        "id": "jvko2Q1s-6Ez"
      },
      "execution_count": null,
      "outputs": []
    }
  ]
}